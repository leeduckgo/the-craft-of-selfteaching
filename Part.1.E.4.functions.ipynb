{
 "cells": [
  {
   "cell_type": "markdown",
   "metadata": {},
   "source": [
    "# 函数"
   ]
  },
  {
   "cell_type": "markdown",
   "metadata": {},
   "source": [
    "函数，实际上是可被调用的完整的程序。它具备输入、处理、输出的功能。又因为它经常在主程序里被调用，所以它总是更像是个子程序。\n",
    "\n",
    "了解一个函数，无非是要了解它的两个方面：\n",
    "\n",
    "> * 它的**输入**是怎么构成的（都有哪些参数？如何指定？）；\n",
    "> * 以及它的**输出**是什么（返回值究竟是什么？）……\n",
    "\n",
    "从这个角度看，牛，对人类来说就是个函数，它吃的是_草_，挤出来的是*奶*…… 开玩笑了。\n",
    "\n",
    "在我们使用函数的过程中，我们常常_有意忽略_它的内部如何完成从输出到输出之间的_处理过程_ —— 这就好像我们平日里用灯泡一样，大多数情况下，我们只要知道开关的使用方法就够了 —— 至于为什么按到这个方向上灯会亮，为什么按到另外一个方向上灯会灭，并不是我们作为用户必须关心的事情…… \n",
    "\n",
    "当然，如果你是设计开关的人就不一样了，你必须知道其中的运作原理；但是，最终，你还是希望你的用户用最简单方便的操作界面，而不是必须搞懂所有原理才能够使用你所设计的产品……\n",
    "\n",
    "当我们用 Python 编程的时候，更多的情况下，我们只不过是在使用别人已经写好的函数，或者用更专业一点的词藻，叫做“已完好封装的函数”。而我们所需要做的事情（所谓的“学习使用函数”），其实只不过是“通过阅读产品说明书了解如何使用产品”而已，真的没多神秘……\n",
    "\n",
    "**注意**\n",
    "\n",
    "> 这一章的核心目的，不是让你学会如何写函数；而是通过一些例子，让你大抵上学会“_如何阅读官方文档中关于函数的使用说明_”。也请注意之前的那个词：“_大抵上_”，所以**千万别怕自己最初的时候理解不全面**。"
   ]
  },
  {
   "cell_type": "markdown",
   "metadata": {
    "toc-hr-collapsed": true
   },
   "source": [
    "## 示例 console.log()"
   ]
  },
  {
   "cell_type": "markdown",
   "metadata": {},
   "source": [
    "### 基本的使用方法"
   ]
  },
  {
   "cell_type": "markdown",
   "metadata": {},
   "source": [
    "`console.log()` 是初学者最常遇到的函数 —— 姑且不说是不是最常用到的。\n",
    "\n",
    "它最基本的作用就是把传递给它的值输出到屏幕上，如果不给它任何参数，那么它就输出一个空行："
   ]
  },
  {
   "cell_type": "code",
   "execution_count": 3,
   "metadata": {},
   "outputs": [
    {
     "name": "stdout",
     "output_type": "stream",
     "text": [
      "line 1st\n",
      "line 2nd\n",
      "\n",
      "line 4th line1\n"
     ]
    }
   ],
   "source": [
    "console.log('line 1st');\n",
    "console.log('line 2nd')\n",
    "console.log()\n",
    "console.log('line 4th');"
   ]
  },
  {
   "cell_type": "markdown",
   "metadata": {},
   "source": [
    "你也可以向它传递多个参数，参数之间用「 , 」分开，它就会把那些值逐个输出到屏幕，每个值之间默认用空格分开。\n",
    "> 参考链接：\n",
    ">\n",
    "> https://developer.mozilla.org/zh-CN/docs/Web/API/Console/log"
   ]
  },
  {
   "cell_type": "code",
   "execution_count": 4,
   "metadata": {},
   "outputs": [
    {
     "name": "stdout",
     "output_type": "stream",
     "text": [
      "Hello, jack mike ... and all you guys!\n"
     ]
    }
   ],
   "source": [
    "console.log('Hello,', 'jack', 'mike', '...', 'and all you guys!');"
   ]
  },
  {
   "cell_type": "markdown",
   "metadata": {},
   "source": [
    "当我们想把变量或者表达式的值插入字符串中的时候，可以用`${}`将变量括起来："
   ]
  },
  {
   "cell_type": "code",
   "execution_count": 17,
   "metadata": {},
   "outputs": [
    {
     "name": "stdout",
     "output_type": "stream",
     "text": [
      "Ann is 22 years old.\n"
     ]
    }
   ],
   "source": [
    "var name = 'Ann';\n",
    "var age = '22';\n",
    "console.log(`${name} is ${age} years old.`);"
   ]
  },
  {
   "cell_type": "markdown",
   "metadata": {},
   "source": [
    "### console.log() 的官方文档说明"
   ]
  },
  {
   "cell_type": "markdown",
   "metadata": {},
   "source": [
    "以下，是 console.log() 这个函数的[官方文档](https://developer.mozilla.org/zh-CN/docs/Web/API/Console/log)：\n",
    "\n",
    ">#### 语法\n",
    ">```\n",
    "console.log(obj1 [, obj2, ..., objN]);\n",
    "console.log(msg [, subst1, ..., substN]);\n",
    "console.log('String: %s, Int: %d,Float: %f, Object: %o', str, ints, floats, obj)\n",
    "console.log(`temp的值为: ${temp}`)\n",
    "```\n",
    ">#### 参数\n",
    "> **obj1 ... objN**\n",
    ">\n",
    ">一个用于输出的 JavaScript 对象列表。其中每个对象会以字符串的形式按照顺序依次输出到控制台。\n",
    ">\n",
    "> **msg**\n",
    ">\n",
    ">一个JavaScript字符串，其中包含零个或多个替代字符串。\n",
    ">\n",
    "> **subst1 ... substN**\n",
    ">\n",
    ">JavaScript 对象，用来依次替换msg中的替代字符串。你可以在替代字符串中指定对象的输出格式。\n",
    "\n",
    "简单来说，就是描述了 `console.log()` 的几种形式"
   ]
  },
  {
   "cell_type": "code",
   "execution_count": 22,
   "metadata": {},
   "outputs": [
    {
     "name": "stdout",
     "output_type": "stream",
     "text": [
      "Hello world!\n",
      "Hello world!\n",
      "hello world!\n"
     ]
    }
   ],
   "source": [
    "console.log('Hello','world!');                    \n",
    "console.log(\"%s %s\", \"Hello\", \"world!\");\n",
    "var output = \"hello world!\";\n",
    "console.log(`${output}`);"
   ]
  },
  {
   "cell_type": "markdown",
   "metadata": {},
   "source": [
    "很多人只看各种教材、教程，却从来不去翻阅官方文档 —— 到最后非常吃亏。只不过是多花一点点的功夫而已……"
   ]
  },
  {
   "cell_type": "markdown",
   "metadata": {},
   "source": [
    "另外，现在可以说清楚了：\n",
    "\n",
    "> `console.log()` 这个函数没有返回值—— 注意，它向屏幕输出的内容，与 `console.log()` 这个函数的返回值不是一回事儿。\n",
    "\n",
    "做为例子，看看 `console.log(console.log(1))` 这个语句 —— `console.log()` 这个函数被调用了两次，第一次是 `console.log(1)`，它向屏幕输出了一次，完整的输出值实际上是 `str(1) + '\\n'`，而后没有返回值；而第二次调用 print()，这相当于是向屏幕输出没有函数没有返回值的结果："
   ]
  },
  {
   "cell_type": "code",
   "execution_count": 21,
   "metadata": {},
   "outputs": [
    {
     "name": "stdout",
     "output_type": "stream",
     "text": [
      "1\n",
      "undefined\n"
     ]
    }
   ],
   "source": [
    "console.log(console.log(1))"
   ]
  },
  {
   "cell_type": "markdown",
   "metadata": {},
   "source": [
    "“**看说明书**”就是这样，全都看了，真不一定全部看懂，但，看总是比不看强，因为总是有能看懂的部分……"
   ]
  },
  {
   "cell_type": "markdown",
   "metadata": {},
   "source": [
    "## 函数参数"
   ]
  },
  {
   "cell_type": "markdown",
   "metadata": {},
   "source": [
    "在 Javascript 中，定义时的函数参数被称为 Parameters，使用时候具体传的值被称为 Arguments。\n",
    "\n",
    "```\n",
    "var foo = function( a, b, c ) {}; // a, b, and c are the parameters\n",
    "\n",
    "foo( 1, 2, 3 ); // 1, 2, and 3 are the arguments\n",
    "```\n",
    "\n",
    "Parameters 和 Arguments 并非一定一一对应。\n",
    "\n",
    "因此我们可以这样调用函数："
   ]
  },
  {
   "cell_type": "code",
   "execution_count": 6,
   "metadata": {},
   "outputs": [
    {
     "name": "stdout",
     "output_type": "stream",
     "text": [
      "1\n",
      "2\n",
      "undefined\n"
     ]
    }
   ],
   "source": [
    "var foo = function( a, b, c ) {\n",
    "    console.log(a);\n",
    "    console.log(b);\n",
    "    console.log(c);\n",
    "}; // a, b, and c are the parameters\n",
    "\n",
    "foo(1, 2); // 1, 2, and 3 are the arguments"
   ]
  },
  {
   "cell_type": "markdown",
   "metadata": {},
   "source": [
    "Parameters 对应的位置没有 Arguments，则会将这个 Parameter 赋值为 undefined。\n",
    "为了防止意料之外的情况发生，我们可以给 Parameters 定义默认值："
   ]
  },
  {
   "cell_type": "code",
   "execution_count": 7,
   "metadata": {},
   "outputs": [
    {
     "name": "stdout",
     "output_type": "stream",
     "text": [
      "1\n",
      "2\n",
      "10\n"
     ]
    }
   ],
   "source": [
    "var foo = function( a, b, c = 10 ) {\n",
    "    console.log(a);\n",
    "    console.log(b);\n",
    "    console.log(c);\n",
    "}; // a, b, and c are the parameters\n",
    "\n",
    "foo(1, 2); // 1, 2, and 3 are the arguments"
   ]
  },
  {
   "cell_type": "markdown",
   "metadata": {},
   "source": [
    "## 数量不定的参数"
   ]
  },
  {
   "cell_type": "markdown",
   "metadata": {},
   "source": [
    "有的时候，在定义函数的时候我们不指定参数的数量，这时我们通过 `arguments[参数位置]` 来定位参数："
   ]
  },
  {
   "cell_type": "code",
   "execution_count": 8,
   "metadata": {},
   "outputs": [
    {
     "data": {
      "text/plain": [
       "500"
      ]
     },
     "execution_count": 8,
     "metadata": {},
     "output_type": "execute_result"
    }
   ],
   "source": [
    "x = findMax(1, 123, 500, 115, 44, 88);\n",
    " \n",
    "function findMax() {\n",
    "    var i, max = arguments[0];\n",
    "    \n",
    "    if(arguments.length < 2) return max;\n",
    " \n",
    "    for (i = 0; i < arguments.length; i++) {\n",
    "        if (arguments[i] > max) {\n",
    "            max = arguments[i];\n",
    "        }\n",
    "    }\n",
    "    return max;\n",
    "}"
   ]
  },
  {
   "cell_type": "markdown",
   "metadata": {},
   "source": [
    "## 总结"
   ]
  },
  {
   "cell_type": "markdown",
   "metadata": {},
   "source": [
    "本章需要（大致）了解的重点如下，其实很简单：\n",
    "\n",
    "> * 你可以把函数当作一个产品，而你自己是这个产品的用户；\n",
    "> * 既然你是产品的用户，你要养成好习惯，一定要亲自阅读产品说明书；\n",
    "> * 所有的函数都有返回值，即便它内部不指定返回值，也有一个返回值：`undefined` ；\n",
    "> * 另外，一定要耐心阅读该函数在使用的时候需要注意什么 —— 产品说明书的主要作用就在这里……\n",
    "\n",
    "知道这些就很好了！\n",
    "\n",
    "这就好像你拿着一张地图，不可能一下子掌握其中所有的细节，但，花几分钟搞清楚“图例”（Legend）部分总是可以的，知道什么样的线标示的是公交车，什么样的线标示的是地铁，什么样的线标示的是桥梁，然后知道上北下南左西右东 —— 这之后，就可以开始慢慢研究地图了……"
   ]
  }
 ],
 "metadata": {
  "kernelspec": {
   "display_name": "Javascript (Node.js)",
   "language": "javascript",
   "name": "javascript"
  },
  "language_info": {
   "file_extension": ".js",
   "mimetype": "application/javascript",
   "name": "javascript",
   "version": "8.10.0"
  },
  "toc-autonumbering": true
 },
 "nbformat": 4,
 "nbformat_minor": 4
}

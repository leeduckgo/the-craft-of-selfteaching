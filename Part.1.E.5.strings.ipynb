{
    "cells": [
     {
      "cell_type": "markdown",
      "metadata": {},
      "source": [
       "# 字符串\n",
       "\n",
       "在任何一本编程书籍之中，关于字符串的内容总是很长 —— 就好像每本英语语法书中，关于动词的内容总是占全部内容的至少三分之二。这也没什么办法，因为处理字符串是计算机程序中最普遍的需求 —— 因为程序的主要功能就是完成人机交互，人们所用的就是字符串而不是二进制数字。\n",
       "\n",
       "在计算机里，所有的东西最终都要被转换成数值。又由于计算机靠的是电路，所以，最终只能处理 `1` 和 `0`，于是，最基本的数值是二进制；于是，连整数、浮点数字，都要最终转换成二进制数值。这就是为什么在所有编程语言中 `1.1 + 2.2` 并不是你所想象的 `3.3` 的原因。"
      ]
     },
     {
      "cell_type": "code",
      "execution_count": 1,
      "metadata": {},
      "outputs": [],
      "source": [
       "1.1 + 2.2; // 3.3000000000000003"
      ]
     },
     {
      "cell_type": "markdown",
      "metadata": {},
      "source": [
       "因为最终所有的值都要转换成二进制 —— 这时候，小数的精度就有损耗，多次浮点数字转换成二进制相互运算之后再从二进制转换为十进制之后返回的结果，精度损耗就更大了。因此，在计算机上，浮点数字的精度总有极限。\n",
       "\n",
       "字符串也一样。一个字符串由 0 个字符或者多个字符构成，它最终也要被转换成数值，再进一步被转换成二进制数值。空字符串的值是 `undefined`，即便是这个 `undefined` —— 也最终还是要被转换成二进制的 `0`。"
      ]
     },
     {
      "cell_type": "markdown",
      "metadata": {},
      "source": [
       "## 字符码表的转换\n",
       "\n",
       "很久以前，计算机的中央处理器最多只能够处理 8 位二进制数值，所以，那时候的计算机只能处理 256 个字符，即，2<sup>8</sup> 个字符。那个时候计算机所使用的码表叫 ASCII。现在计算机的中央处理器，大多是 64 位的，所以可以使用 2<sup>64</sup> 容量的码表，叫做 [Unicode](https://zh.wikipedia.org/wiki/Unicode)。随着多年的收集，2018 年 6 月 5 日公布的 `11.0.0` 版本已经包含了 13 万个字符 —— 突破 10 万字符是在 2005 年。\n",
       "\n",
       "把单个字符转换成码值的函数是 `charCodeAt()`，它只接收单个字符，否则会报错；它返回该字母的 unicode 编码。与 `charCodeAt()` 相对的函数是 `fromCharCode()`，它接收且只一个整数作为参数，而后返回相应的字符。`fromCharCode()` 接收多个字符的话会报错。"
      ]
     },
     {
      "cell_type": "code",
      "execution_count": 2,
      "metadata": {},
      "outputs": [],
      "source": [
       "var str = \"A\";\n",
       "console.log(str.charCodeAt(0)); // 65\n",
       "\n",
       "var num = 97;\n",
       "console.log(String.fromCharCode(num)); // 'a'"
      ]
     },
     {
      "cell_type": "markdown",
      "metadata": {},
      "source": [
       "## 字符串的标示\n",
       "\n",
       "标示一个字符串，有 2 种方法，用单引号或者双引号："
      ]
     },
     {
      "cell_type": "code",
      "execution_count": 3,
      "metadata": {},
      "outputs": [],
      "source": [
       "'d';\n",
       "\"d\";"
      ]
     },
     {
      "cell_type": "markdown",
      "metadata": {},
      "source": [
       "JavaScript 中输出多行文字需要一些技巧："
      ]
     },
     {
      "cell_type": "code",
      "execution_count": 4,
      "metadata": {},
      "outputs": [],
      "source": [
       "function heredoc(fn) {\n",
       "    return fn.toString().split('\\n').slice(1,-1).join('\\n') + '\\n'\n",
       "}\n",
       "var tmpl = heredoc(function(){/*\n",
       "    hello\n",
       "    world\n",
       "    */});\n",
       "console.log(tmpl);"
      ]
     },
     {
      "cell_type": "markdown",
      "metadata": {},
      "source": [
       "## 字符串与数值之间的转换\n",
       "\n",
       "由数字构成的字符串，可以被转换成数值，转换整数用 `parseInt()` ，转换浮点数字用 `parseFloat()`。\n",
       "\n",
       "与之相对，用 `String()`，可以将数值转换成字符串类型。\n",
       "\n",
       "注意，`parseInt()` 在接收字符串为参数的时候，只能做整数转换。下面代码最后一行会报错："
      ]
     },
     {
      "cell_type": "code",
      "execution_count": 5,
      "metadata": {},
      "outputs": [],
      "source": [
       "parseInt('3');\n",
       "parseFloat('3');\n",
       "String(3.1415926);\n",
       "parseInt('3.1415926'); // NaN"
      ]
     },
     {
      "cell_type": "markdown",
      "metadata": {},
      "source": [
       "`prompt()` 这个内建函数的功能是接收用户的键盘输入，而后将其作为字符串返回。它可以接收一个字符串作为参数，在接收用户键盘输入之前，会把这个参数输出到屏幕，作为给用户的提示语。这个参数是可选参数，直接写 `prompt()`，即，没有提供参数，那么它在要求用户输入的时候，就没有提示语。\n",
       "\n",
       "以下代码会报错，因为 `age < 18` 不是合法的逻辑表达式，因为 `age` 是由 `prompt()` 传递过来的字符串；于是，它不是数字，那么它不可以与数字比较……"
      ]
     },
     {
      "cell_type": "code",
      "execution_count": 6,
      "metadata": {},
      "outputs": [],
      "source": [
       "var age = prompt('Please tell me your age: ');\n",
       "if (age < 18) {\n",
       "    console.log('I can not sell you drinks...');\n",
       "} else {\n",
       "    console.log('Have a nice drink!');\n",
       "}"
      ]
     },
     {
      "cell_type": "markdown",
      "metadata": {},
      "source": [
       "要改成这样才行："
      ]
     },
     {
      "cell_type": "code",
      "execution_count": 7,
      "metadata": {},
      "outputs": [],
      "source": [
       "var age = parseInt(prompt('Please tell me your age: '));\n",
       "if (age < 18) {\n",
       "    console.log('I can not sell you drinks...');\n",
       "} else {\n",
       "    console.log('Have a nice drink!');\n",
       "}"
      ]
     },
     {
      "cell_type": "markdown",
      "metadata": {},
      "source": [
       "## 转义符\n",
       "\n",
       "有一个重要的字符，叫做“转义符”，`\\`，也有的地方把它称为“脱字符”，因为它的英文原文是 _Escaping Character_。它本身不被当作字符，你要想在字符串里含有这个字符，得这样写 `\\\\`："
      ]
     },
     {
      "cell_type": "code",
      "execution_count": 8,
      "metadata": {},
      "outputs": [],
      "source": [
       "'\\\\';"
      ]
     },
     {
      "cell_type": "markdown",
      "metadata": {},
      "source": [
       "上面这一行报错信息是 `SyntaxError: Invalid or unexpected token`。这是因为 `\\'` 表示的是单引号字符 `'`（Literal） —— 是可被输出到屏幕的 `'`，而不是用来标示字符串的那个 `'`。\n",
       "\n",
       "如果你想输出这么个字符串，`He said, it's fine.`，如果用双引号扩起来 `\"` 倒没啥问题，但是如果用单引号扩起来就麻烦了，因为编译器会把 `it` 后面的那个单引号 `'` 当作字符串结尾。"
      ]
     },
     {
      "cell_type": "code",
      "execution_count": 9,
      "metadata": {},
      "outputs": [],
      "source": [
       "'He said, it\\'s fine.';\n",
       "\"He said, it's fine.\";\n",
       "\"He said, it\\'s fine.\";"
      ]
     },
     {
      "cell_type": "markdown",
      "metadata": {},
      "source": [
       "转义符号 `\\` 的另外两个常用形式是和 `t`、`n` 连起来用，`\\t` 代表制表符（就是用 TAB `⇥` 键敲出来的东西），`\\n` 代表换行符（就是用 Enter `⏎` 敲出来的东西）。\n",
       "\n",
       "在写程序的过程中，我们在代码中写的是 _raw_，而例如当我们调用 `console.log()` 将字符串输出到屏幕上时，是 _presentation_："
      ]
     },
     {
      "cell_type": "code",
      "execution_count": 10,
      "metadata": {},
      "outputs": [],
      "source": [
       "var s = \"He said, it's fine.\"; // raw\n",
       "console.log(s);                  // presentation"
      ]
     },
     {
      "cell_type": "markdown",
      "metadata": {},
      "source": [
       "## 字符串的操作符\n",
       "\n",
       "字符串可以用空格 `' '` 或者 `+` 拼接："
      ]
     },
     {
      "cell_type": "code",
      "execution_count": 11,
      "metadata": {},
      "outputs": [],
      "source": [
       "'Hey!' + ' ' + 'You!';"
      ]
     },
     {
      "cell_type": "markdown",
      "metadata": {},
      "source": [
       "字符串还可以与整数被操作符 `*` 操作，`'Ha' * 3` 的意思是说，把字符串 `'Ha'` 复制三遍："
      ]
     },
     {
      "cell_type": "code",
      "execution_count": 12,
      "metadata": {},
      "outputs": [],
      "source": [
       "'Ha'.repeat(3);"
      ]
     },
     {
      "cell_type": "markdown",
      "metadata": {},
      "source": [
       "字符串还可以用 `indexOf()` 和 `lastIndexOf()` 操作符 —— 看看某个字符或者字符串是否被包含在某个字符串中，返回的是索引值或者 `-1`："
      ]
     },
     {
      "cell_type": "code",
      "execution_count": 13,
      "metadata": {},
      "outputs": [],
      "source": [
       "'Hey, You!'.indexOf('o');"
      ]
     },
     {
      "cell_type": "markdown",
      "metadata": {},
      "source": [
       "## 字符串的索引\n",
       "\n",
       "字符串是由一系列的字符构成的。在 JavaScript 当中，有一个容器（Container）的概念，这个概念后面会深入讲解。现在需要知道的是，字符串是容器的一种；容器可分为两种，有序的和无序的 —— 字符串属于**有序容器**。\n",
       "\n",
       "字符串里的每个字符，对应着一个从 `0` 开始的索引。比较有趣的是，索引可以是负数：\n",
       "\n",
       "| 0    | 1    | 2    | 3    | 4    | 5    |\n",
       "| ---- | ---- | ---- | ---- | ---- | ---- |\n",
       "| P    | y    | t    | h    | o    | n    |\n",
       "| -6   | -5   | -4   | -3   | -2   | -1   |"
      ]
     },
     {
      "cell_type": "code",
      "execution_count": 14,
      "metadata": {},
      "outputs": [],
      "source": [
       "var s = 'Python';\n",
       "for (var i = 0; i < s.length; i++) {\n",
       "    console.log(i, s[i]);\n",
       "}"
      ]
     },
     {
      "cell_type": "markdown",
      "metadata": {},
      "source": [
       "我们可以使用_索引操作符_根据_索引_**提取**字符串这个_有序容器_中的_一个或多个元素_，即，其中的字符或字符串。这个“提取”的动作有个专门的术语，叫做“slicing”（切片）。索引操作符 `[]` 中可以有一个、两个或者三个整数参数，如果有两个参数，需要用 `:` 隔开。它最终可以写成以下 4 种形式：\n",
       "\n",
       "> * `s[index]` —— 返回索引值为 `index` 的那个字符\n",
       "> * `s[start:]` —— 返回从索引值为 `start` 开始一直到字符串末尾的所有字符\n",
       "> * `s[start:stop]` —— 返回从索引值为 `start` 开始一直到索引值为 `stop` 的那个字符_之前_的所有字符\n",
       "> * `s[:stop]` —— 返回从字符串开头一直到索引值为 `stop`的那个字符_之前_的所有字符\n",
       "> * `s[start:stop:step]` —— 返回从索引值为 `start` 开始一直到索引值为 `stop` 的那个字符_之前_的，以 `step` 为步长提取的所有字符\n",
       "\n",
       "JavaScript 中的切片可以通过 `substring()` 和 `slice()` 方法实现："
      ]
     },
     {
      "cell_type": "code",
      "execution_count": 15,
      "metadata": {},
      "outputs": [],
      "source": [
       "var s = 'Python';\n",
       "console.log(s.substring(1)); // 'ython'\n",
       "console.log(s.substring(2, 5)); // 'tho'\n",
       "console.log(s.slice(1, 5)); // 'ytho'"
      ]
     },
     {
      "cell_type": "markdown",
      "metadata": {},
      "source": [
       "## 处理字符串的内建函数\n",
       "\n",
       "JavaScript 处理字符串的内建函数有很多，常见的如 `charCodeAt()`、`fromCharCode()`、`parseInt()`、`parseFloat()`、`String()`、`length` 等。"
      ]
     },
     {
      "cell_type": "code",
      "execution_count": 16,
      "metadata": {},
      "outputs": [],
      "source": [
       "console.log('\\n'.charCodeAt(0)); // 10\n",
       "console.log(String.fromCharCode(65)); // 'A'\n",
       "var s = prompt('请照抄一遍这个数字 3.14: ');\n",
       "console.log(parseInt('3'));\n",
       "console.log(parseFloat(s) * 9);\n",
       "console.log(s.length);\n",
       "console.log(s.repeat(3));"
      ]
     },
     {
      "cell_type": "markdown",
      "metadata": {},
      "source": [
       "## 处理字符串的 Method\n",
       "\n",
       "在 JavaScript 中，字符串是一个**对象**。字符串对象具有许多可以调用的方法（Methods）。"
      ]
     },
     {
      "cell_type": "markdown",
      "metadata": {},
      "source": [
       "### 大小写转换\n",
       "\n",
       "转换字符串大小写的方法包括 `toUpperCase()`、`toLowerCase()` 和 `toLocaleLowerCase()`；另外，还有专门针对行首字母大写的 `toUpperCase()` 和针对每个词的首字母大写的 `toTitleCase()`（需要自定义实现）。"
      ]
     },
     {
      "cell_type": "code",
      "execution_count": 17,
      "metadata": {},
      "outputs": [],
      "source": [
       "var s = 'Now is better than never.';\n",
       "console.log(s.toUpperCase()); // 'NOW IS BETTER THAN NEVER.'\n",
       "console.log(s.toLowerCase()); // 'now is better than never.'"
      ]
     },
     {
      "cell_type": "markdown",
      "metadata": {},
      "source": [
       "### 搜索与替换\n",
       "\n",
       "JavaScript 提供了 `indexOf()`、`lastIndexOf()`、`includes()`、`replace()` 等方法来进行字符串的搜索和替换。"
      ]
     },
     {
      "cell_type": "code",
      "execution_count": 18,
      "metadata": {},
      "outputs": [],
      "source": [
       "var s = \"Simple is better than complex. Complex is better than complicated.\";\n",
       "console.log(s.indexOf('mpl')); // 2\n",
       "console.log(s.indexOf('mpl', 10)); // 24\n",
       "console.log(s.indexOf('mpl', 40)); // -1\n",
       "console.log(s.lastIndexOf('mpl')); // 24\n",
       "console.log(s.includes('mpl')); // true\n",
       "console.log(s.replace('mpl', 'XXX')); // 'SiXXXe is better than complex...'"
      ]
     },
     {
      "cell_type": "markdown",
      "metadata": {},
      "source": [
       "### 去除子字符\n",
       "\n",
       "JavaScript 中，可以使用 `trim()`、`trimStart()` 和 `trimEnd()` 来去除字符串两端的空白字符："
      ]
     },
     {
      "cell_type": "code",
      "execution_count": 19,
      "metadata": {},
      "outputs": [],
      "source": [
       "var s = \"\\t  Simple is better than complex.  \\t \\n\";\n",
       "console.log(s.trim()); // 'Simple is better than complex.'\n",
       "console.log(s.trimStart()); // 'Simple is better than complex.  \\t \\n'\n",
       "console.log(s.trimEnd()); // '\\t  Simple is better than complex.'"
      ]
     },
     {
      "cell_type": "markdown",
      "metadata": {},
      "source": [
       "### 拆分字符串\n",
       "\n",
       "JavaScript 提供了 `split()` 方法来将字符串拆分成数组："
      ]
     },
     {
      "cell_type": "code",
      "execution_count": 20,
      "metadata": {},
      "outputs": [],
      "source": [
       "var s = \"Name,Age,Location\\nJohn,18,New York\\nMike,22,San Francisco\\nJanny,25,Miami\\nSunny,21,Shanghai\";\n",
       "var lines = s.split('\\n');\n",
       "console.log(lines[0].split(',')); // ['Name', 'Age', 'Location']"
      ]
     },
     {
      "cell_type": "markdown",
      "metadata": {},
      "source": [
       "### 拼接字符串\n",
       "\n",
       "JavaScript 提供了 `concat()` 方法和 `join()` 方法来进行字符串拼接："
      ]
     },
     {
      "cell_type": "code",
      "execution_count": 21,
      "metadata": {},
      "outputs": [],
      "source": [
       "var s = 'Hello'.concat(' ', 'World');\n",
       "console.log(s); // 'Hello World'\n",
       "var arr = ['Hello', 'World'];\n",
       "console.log(arr.join(' ')); // 'Hello World'"
      ]
     },
     {
      "cell_type": "markdown",
      "metadata": {},
      "source": [
       "### 字符串排版\n",
       "\n",
       "JavaScript 没有直接的字符串排版方法，但是可以通过 `padStart()` 和 `padEnd()` 来实现类似效果："
      ]
     },
     {
      "cell_type": "code",
      "execution_count": 22,
      "metadata": {},
      "outputs": [],
      "source": [
       "var s = 'Sparse is better than dense!';\n",
       "console.log(s.padStart(60)); // '                         Sparse is better than dense!'\n",
       "console.log(s.padEnd(60, '.')); // 'Sparse is better than dense!.......................'"
      ]
     },
     {
      "cell_type": "markdown",
      "metadata": {},
      "source": [
       "### 格式化字符串\n",
       "\n",
       "所谓对字符串进行格式化，指的是将特定变量插入字符串特定位置的过程。JavaScript 中可以通过模板字符串（template literals）来实现："
      ]
     },
     {
      "cell_type": "code",
      "execution_count": 23,
      "metadata": {},
      "outputs": [],
      "source": [
       "var name = 'John';\n",
       "var age = 25;\n",
       "console.log(`${name} is ${age} years old.`); // 'John is 25 years old.'\n",
       "console.log(`${name} is a grown up? ${age >= 18}`); // 'John is a grown up? true'"
      ]
     },
     {
      "cell_type": "markdown",
      "metadata": {},
      "source": [
       "### 字符串属性\n",
       "\n",
       "JavaScript 中的字符串对象还有一些布尔值方法，用于判断字符串的构成属性："
      ]
     },
     {
      "cell_type": "code",
      "execution_count": 24,
      "metadata": {},
      "outputs": [],
      "source": [
       "console.log('1234567890'.match(/^[0-9]+$/) !== null); // true\n",
       "console.log('abcdefghij'.match(/^[a-z]+$/i) !== null); // true\n",
       "console.log('山巅一寺一壶酒'.match(/^[\\u4e00-\\u9fa5]+$/) !== null); // true\n",
       "console.log('0.123456789'.match(/^[0-9.]+$/) !== null); // true\n",
       "console.log('0.123456789'.match(/^[0-9.]+$/) !== null); // true\n",
       "console.log('Continue'.match(/^[A-Z][a-z]+$/) !== null); // true\n",
       "console.log('Simple Is Better Than Complex'.match(/^[A-Z][a-z]+$/) !== null); // false\n",
       "console.log('\\t'.trim().length === 0); // true\n",
       "console.log('for'.match(/^[_a-zA-Z][_a-zA-Z0-9]*$/) !== null); // true"
      ]
     },
     {
      "cell_type": "markdown",
      "metadata": {},
      "source": [
       "## 总结\n",
       "\n",
       "这一章节显得相当繁杂。然而，这一章和下一章（关于容器），都是“用来锻炼自己耐心的好材料”……\n",
       "\n",
       "不过，若是自己动手整理成一个表格，总结归纳一下这一章节的内容，你就会发现其实没多繁杂，总之就还是那点事儿，怎么处理字符串？用操作符、用内建函数，用 Methods。只不过，字符串的操作符和数值的操作符不一样 —— 类型不一样，操作符就当然不一样了么！—— 最不一样的地方是，字符串是有序容器的一种，所以，它有索引，所以可以根据索引提取…… 至于剩下的么，就是很常规的了，用函数处理，用 Methods 处理，只不过，Methods 相对多了一点而已。"
      ]
     }
    ],
    "metadata": {
     "kernelspec": {
      "display_name": "Javascript (Node.js)",
      "language": "javascript",
      "name": "javascript"
     },
     "language_info": {
      "file_extension": ".js",
      "mimetype": "application/javascript",
      "name": "javascript",
      "version": "8.10.0"
     }
    },
    "nbformat": 4,
    "nbformat_minor": 4
   }
   
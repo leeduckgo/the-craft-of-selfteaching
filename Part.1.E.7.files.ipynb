{
    "cells": [
      {
        "cell_type": "markdown",
        "metadata": {},
        "source": [
          "# 文件\n",
          "\n",
          "我们需要处理的数据，一定是很多，所以才必须由计算机帮我们处理 —— 大量的数据保存、读取、写入，需要的就是文件（Files）。在这一章里，我们只介绍最简单的文本文件。\n",
          "\n",
          "## 创建文件\n",
          "\n",
          "创建一个文件，最简单的方式就是用 JavaScript 的内建函数 `fs.writeFileSync()` 和 `fs.openSync()`。\n",
          "\n",
          "`fs.writeFileSync()` 函数的用法是:\n",
          "\n",
          "```javascript\n",
          "fs.writeFileSync(path, data[, options])\n",
          "```\n",
          "\n",
          "创建一个新文件，如果文件不存在则创建，如果文件存在则覆盖，用这样一个语句就可以：\n",
          "\n",
          "```javascript\n",
          "const fs = require('fs');\n",
          "fs.writeFileSync('/tmp/test-file.txt', 'Hello World!');\n",
          "```\n",
          "\n",
          "打开一个文件的示例代码是：\n",
          "\n",
          "```javascript\n",
          "const fd = fs.openSync('/tmp/test-file.txt', 'w');\n",
          "```"
        ]
      },
      {
        "cell_type": "markdown",
        "metadata": {},
        "source": [
          "## 删除文件\n",
          "\n",
          "删除文件，我们使用 Node.js 的 `fs` 模块。在删除文件之前，我们可以用 `fs.existsSync()` 来确认文件是否存在，避免错误。\n",
          "\n",
          "```javascript\n",
          "const fs = require('fs');\n",
          "\n",
          "fs.writeFileSync('/tmp/test-file.txt', 'Temporary file');\n",
          "console.log('File created.');\n",
          "\n",
          "if (fs.existsSync('/tmp/test-file.txt')) {\n",
          "    fs.unlinkSync('/tmp/test-file.txt');\n",
          "    console.log('File deleted.');\n",
          "} else {\n",
          "    console.log('File does not exist.');\n",
          "}\n",
          "```"
        ]
      },
      {
        "cell_type": "markdown",
        "metadata": {},
        "source": [
          "## 读写文件\n",
          "\n",
          "创建文件之后，我们可以用 `fs.writeFileSync()` 把数据写入文件，也可以用 `fs.readFileSync()` 读取文件内容。\n",
          "\n",
          "```javascript\n",
          "const fs = require('fs');\n",
          "\n",
          "// 写入文件\n",
          "fs.writeFileSync('/tmp/test-file.txt', '第一行\\n第二行\\n第三行\\n');\n",
          "\n",
          "// 读取文件\n",
          "const data = fs.readFileSync('/tmp/test-file.txt', 'utf8');\n",
          "console.log(data);\n",
          "```\n",
          "\n",
          "文件有很多行的时候，我们可以通过读取文件内容后，使用字符串的 `split()` 方法来处理每一行：\n",
          "\n",
          "```javascript\n",
          "const fs = require('fs');\n",
          "\n",
          "// 写入文件\n",
          "fs.writeFileSync('/tmp/test-file.txt', '第一行\\n第二行\\n第三行\\n');\n",
          "\n",
          "// 读取文件并按行处理\n",
          "const data = fs.readFileSync('/tmp/test-file.txt', 'utf8');\n",
          "const lines = data.split('\\n');\n",
          "\n",
          "lines.forEach((line) => {\n",
          "    console.log(line);\n",
          "});\n",
          "```"
        ]
      },
      {
        "cell_type": "markdown",
        "metadata": {},
        "source": [
          "## 使用 `fs` 模块\n",
          "\n",
          "针对文件操作，Node.js 提供了 `fs` 模块，使得读写文件变得更简单。\n",
          "\n",
          "```javascript\n",
          "const fs = require('fs');\n",
          "\n",
          "// 使用 writeFileSync 方法写入文件\n",
          "fs.writeFileSync('/tmp/test-file.txt', '第一行\\n第二行\\n第三行\\n');\n",
          "\n",
          "// 使用 readFileSync 方法读取文件\n",
          "const data = fs.readFileSync('/tmp/test-file.txt', 'utf8');\n",
          "console.log(data);\n",
          "```"
        ]
      },
      {
        "cell_type": "markdown",
        "metadata": {},
        "source": [
          "## 总结\n",
          "\n",
          "这一章我们介绍了 JavaScript 中文本文件的基本操作：\n",
          "\n",
          "> * 打开文件，直接用内建模块 `fs`，基本方法有 `fs.openSync()`、`fs.writeFileSync()`；\n",
          "> * 删除文件，得调用 `fs` 模块，使用 `fs.unlinkSync()`，删除文件前最好确认文件确实存在……\n",
          "> * 读写文件分别有 `fs.readFileSync()`、`fs.writeFileSync()`；\n",
          "> * 可以用 `fs` 模块把相关操作都简化处理……"
        ]
      }
    ],
    "metadata": {
      "kernelspec": {
        "display_name": "JavaScript (Node.js)",
        "language": "javascript",
        "name": "javascript"
      },
      "language_info": {
        "name": "javascript",
        "version": "v12.16.1",
        "mimetype": "text/javascript",
        "file_extension": ".js"
      }
    },
    "nbformat": 4,
    "nbformat_minor": 2
  }
  
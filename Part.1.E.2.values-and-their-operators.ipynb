{
 "cells": [
  {
   "cell_type": "markdown",
   "metadata": {},
   "source": [
    "# 值及其相应的运算"
   ]
  },
  {
   "cell_type": "markdown",
   "metadata": {},
   "source": [
    "从结构上来看，一切的计算机程序，都由且只由两个最基本的成分构成：\n",
    "\n",
    "> * **运算**（Evaluation）\n",
    "> * **流程控制**（Control Flow）\n",
    "\n",
    "没有流程控制的是计算器而已；有流程控制的才是可编程设备。\n",
    "\n",
    "看看之前我们见过的计算质数的程序：（按一下 `⎋`，即 `ESC`，确保已经进入命令模式，`⇧ L` 可以切换是否显示代码行号）"
   ]
  },
  {
   "cell_type": "code",
   "execution_count": 1,
   "metadata": {},
   "outputs": [
    {
     "name": "stdout",
     "output_type": "stream",
     "text": [
      "83\n",
      "89\n",
      "97\n",
      "101\n",
      "103\n",
      "107\n",
      "109\n"
     ]
    }
   ],
   "source": [
    "var is_prime = function(i){     // 定义 is_prime()，接收一个参数\n",
    "    if(i < 2){                  // 开始使用接收到的那个参数（值）开始计算……\n",
    "        return false;           // 不再是返回给人，而是返回给调用它的代码……\n",
    "    }\n",
    "    if(i == 2){\n",
    "        return true;\n",
    "    }\n",
    "    for(var j= 2;j < Math.floor(i ** 0.5);j++){\n",
    "        if(i % j == 0){\n",
    "            return false;\n",
    "        }         \n",
    "    }\n",
    "    return true\n",
    "};\n",
    "\n",
    "for(var i = 80;i <= 110;i++){\n",
    "    if(is_prime(i)){           // 调用 is_prime() 函数，\n",
    "        console.log(i)         // 如果返回值为 True，则向屏幕输出 i\n",
    "    }\n",
    "}"
   ]
  },
  {
   "cell_type": "markdown",
   "metadata": {},
   "source": [
    "`if...`，`for...` 在控制流程：在什么情况下运算什么，在什么情况下重复运算什么；\n",
    "\n",
    "第 17 行 `is_prime()` 这个函数的调用，也是在控制流程 —— 所以我们可以**把函数看作是“子程序”**；\n",
    "\n",
    "一旦这个函数被调用，流程就转向开始执行在第 1 行中定义的 `is_prime()` 函数内部的代码，而这段代码内部还是_计算_和_流程控制_，决定一个返回值 —— 返回值是布尔值；再回到第 17 行，将返回值交给 `if` 判断，决定是否执行第 18 行……\n",
    "\n",
    "而计算机这种可编程设备之所以可以做流程控制，是因为它可以做**布林运算**，即，它可以_对布尔值_进行_操作_，而后将布尔值交给_分支_和_循环_语句，构成了程序中的流程控制。"
   ]
  },
  {
   "cell_type": "markdown",
   "metadata": {},
   "source": [
    "## 值"
   ]
  },
  {
   "cell_type": "markdown",
   "metadata": {},
   "source": [
    "从本质上看，程序里的绝大多数语句包含着**运算**（Evaluation），即，在对某个值进行**评价**。这里的“评价”，不是“判断某人某事的好坏”，而是“_计算出某个值究竟是什么_” —— 所以，我们用中文的“**运算**”翻译这个“_Evaluation_”可能表达得更准确一些。\n",
    "\n",
    "在程序中，被运算的可分为**常量**（Literals）和**变量**（Variables）。\n",
    "\n",
    "```javascript\n",
    "a = 1 + 2 * 3\n",
    "a += 1\n",
    "console.log(a)\n",
    "```\n",
    "\n",
    "在以上代码中，\n",
    "\n",
    "`1`、`2`、`3`，都是**常量**。_Literal_ 的意思是是“字面的”，顾名思义，常量的_值_就是它字面上的值。`1` 的值，就是`1`。\n",
    "\n",
    "`a` 是**变量**。顾名思义，它的值将来是可变的。比如，在第 2 句中，这个变量的_值_发生了改变，之前是 `7`，之后变成了 `8`。\n",
    "\n",
    "第 1 句中的 `+`、`*`，是**操作符**（Operators），它用来对其左右的值进行相应的_运算_而后得到一个值。先是由操作符 `*` 对 `2` 和 `3` 进行运算，\n",
    "生成一个值，`6`；然后再由操作符 `+` 对 `1` 和 `6` 进行运算，生成一个值 `7`。先算乘除后算加减，这是操作符的**优先级**决定的。\n",
    "\n",
    "`=` 是赋值符号，它的作用是将它右边的值保存到左边的变量中。\n"
   ]
  },
  {
   "cell_type": "markdown",
   "metadata": {},
   "source": [
    "_值_是程序的基础成分（Building blocks），它就好像盖房子用的砖块一样，无论什么样的房子，到最后都主要是由砖块构成。\n",
    "\n",
    "_常量_，当然有个_值_ —— 就是它们字面所表达的值。\n",
    "\n",
    "_变量_必须先_赋值_才能使用，也就是说，要先把一个_值_保存到变量中，它才能在其后被运算。\n",
    "\n",
    "在 Javascript 中，如果你在定义一个函数的时候没有设定返回值，它会返回 `undefined`，就是告诉你「返回值是一个未被定义的值」。"
   ]
  },
  {
   "cell_type": "code",
   "execution_count": 6,
   "metadata": {},
   "outputs": [
    {
     "name": "stdout",
     "output_type": "stream",
     "text": [
      "undefined\n",
      "undefined\n",
      "undefined\n"
     ]
    }
   ],
   "source": [
    "var func = function(){} // 定义一个空函数\n",
    "console.log(func()) // 输出 f() 这个函数被调用后的返回值, undefined\n",
    "console.log(console.log(func())) // 这一行最外围的 print() 调用了一次 print(f())，所以输出一个 undefined，\n",
    "                                 // 而后再输出这次调用的返回值，所以又输出一次 undefined"
   ]
  },
  {
   "cell_type": "markdown",
   "metadata": {},
   "source": [
    "当我们调用一个函数的时候，本质上来看，就相当于：\n",
    "\n",
    "> 我们把一个值交给某个函数，请函数根据它内部的运算和流程控制对其进行操作而后返回另外一个值。\n",
    "\n",
    "比如，`Math.abs()` 函数，就会返回传递给它的_值_的*绝对值*；`Math.floor()` 函数，会将传递给它的值的小数部分砍掉。\n",
    "\n",
    "需要注意的一点是，Javascript 不像 Python 一样，存在整型（Integer）和浮点型的区分（Float），二者都是 Number 类型。"
   ]
  },
  {
   "cell_type": "code",
   "execution_count": 11,
   "metadata": {},
   "outputs": [
    {
     "name": "stdout",
     "output_type": "stream",
     "text": [
      "3.14159\n",
      "3\n",
      "number\n",
      "number\n"
     ]
    }
   ],
   "source": [
    "console.log(Math.abs(-3.14159))\n",
    "console.log(Math.floor(Math.abs(-3.14159)))\n",
    "\n",
    "console.log(typeof(Math.abs(-3.14159)))\n",
    "console.log(typeof(Math.floor(Math.abs(-3.14159))))"
   ]
  },
  {
   "cell_type": "markdown",
   "metadata": {},
   "source": [
    "## 值的类型"
   ]
  },
  {
   "cell_type": "markdown",
   "metadata": {},
   "source": [
    "在编程语言中，总是包含最基本的三种数据类型：\n",
    "\n",
    "> * 布尔值（Boolean Value)\n",
    "> * 数字（Numbers）：包括整数（Int）、浮点数（Float）、复数（Complex Numbers）\n",
    "> * 字符串（Strings）\n",
    "\n",
    "对于 Javascript 而言，整数和浮点数统一为 Number 类型，复数类则是要单独实现的。\n",
    "\n",
    "同时，Javascript 中还报考其它三种基本类型：Undifined（未定义）、Null（空）、Symbol（ES6 专属）。不过这三种属性，初学时暂时不用考虑。\n",
    "\n",
    "既然有不同类型的数据，它们就分别对应着不同类型的值。\n",
    "\n"
   ]
  },
  {
   "cell_type": "markdown",
   "metadata": {},
   "source": [
    "运算的一个默认法则就是，通常情况下应该是_相同类型的值才能相互运算_。\n",
    "\n",
    "对于 Javascript 而言，布尔值、数字和字符串在运算过程中，会进行 **隐式转换** 。转换规则有两条：\n",
    "\n",
    "- 字符串和任何其它类型相加，其它类型自动转换为字符串；\n",
    "- 字符串和任何其它类型进行加法以外的运算，返回 NaN (Not a Number）；\n",
    "- 布尔值和数字，布尔值和布尔值进行计算，true 自动转换为 1，false 自动转换为 0。"
   ]
  },
  {
   "cell_type": "code",
   "execution_count": 40,
   "metadata": {},
   "outputs": [
    {
     "name": "stdout",
     "output_type": "stream",
     "text": [
      "19\n",
      "1\n",
      "aabb\n",
      "aatrue1\n",
      "NaN\n",
      "0.2\n"
     ]
    }
   ],
   "source": [
    "console.log((11 + 10 - 9 * 8 / 6 % 5 ))  // 数字与数字的运算\n",
    "console.log(true + false) // 布尔 + 布尔\n",
    "console.log(\"aa\" + \"bb\") // 字符串 + 字符串\n",
    "\n",
    "//隐式转换\n",
    "console.log(\"aa\" + true + 1) //字符串 + 其他类型\n",
    "console.log(\"aa\" - true - 1) //字符串 - 其他类型\n",
    "console.log(true / 5) //布尔 / 数字"
   ]
  },
  {
   "cell_type": "markdown",
   "metadata": {},
   "source": [
    "有个函数，`typeof()` ，可以用来查看某个值属于什么类型："
   ]
  },
  {
   "cell_type": "code",
   "execution_count": 46,
   "metadata": {},
   "outputs": [
    {
     "name": "stdout",
     "output_type": "stream",
     "text": [
      "number\n",
      "number\n",
      "string\n",
      "boolean\n",
      "object\n",
      "number\n",
      "object\n"
     ]
    }
   ],
   "source": [
    "console.log(typeof(3))\n",
    "console.log(typeof(3.0))\n",
    "console.log(typeof('3.14'))\n",
    "console.log(typeof(true))\n",
    "console.log(typeof([1,2,3]))\n",
    "console.log(typeof((1,2,3)))\n",
    "console.log(typeof({'a':1, 'b':2, 'c':3}))"
   ]
  },
  {
   "cell_type": "markdown",
   "metadata": {},
   "source": [
    "## 操作符"
   ]
  },
  {
   "cell_type": "markdown",
   "metadata": {},
   "source": [
    "针对不同类型的数据，有各自专用的**操作符**。"
   ]
  },
  {
   "cell_type": "markdown",
   "metadata": {},
   "source": [
    "### 数值操作符"
   ]
  },
  {
   "cell_type": "markdown",
   "metadata": {},
   "source": [
    "针对数字进行计算的操作符有加减乘除余幂：`+`、`-`、`*`、`/`、`%`、`**`。\n",
    "\n",
    "其中 `+` 和 `-` 可以对单个值进行操作，`-3`；其它的操作符需要有两个值才能操作。\n",
    "\n",
    "从优先级来看，这些操作符中：\n",
    "\n",
    "> * 对两个值进行操作的 `+`、`-` 的优先级最低；\n",
    "> * 而后是 `*`、`/`、`%`；\n",
    "> * 而后是对单个值进行操作的 `+`、`-`；\n",
    "> * 而后是 `**`。\n",
    "\n",
    "完整的操作符优先级列表，参见官方文档：\n",
    "\n",
    "> https://developer.mozilla.org/zh-CN/docs/Web/JavaScript/Reference/Operators/Operator_Precedence\n",
    "\n"
   ]
  },
  {
   "cell_type": "markdown",
   "metadata": {},
   "source": [
    "### 布尔值操作符"
   ]
  },
  {
   "cell_type": "markdown",
   "metadata": {},
   "source": [
    "针对与布尔值，操作符有 `&&`(and)、`||`(or)、`!`(not)。\n",
    "\n",
    "它们之中，优先级最低的是 `||`，然后是 `&&`, 优先级最高的是 `!`："
   ]
  },
  {
   "cell_type": "code",
   "execution_count": 1,
   "metadata": {},
   "outputs": [
    {
     "data": {
      "text/plain": [
       "false"
      ]
     },
     "execution_count": 1,
     "metadata": {},
     "output_type": "execute_result"
    }
   ],
   "source": [
    "true && false || !true"
   ]
  },
  {
   "cell_type": "markdown",
   "metadata": {},
   "source": [
    "最先操作的是 `!`，因为它优先级最高。所以，上面的表达式相当于 `true && false || (! True)`， 即相当于 `true && false || false`；\n",
    "\n",
    "然后是 `and`，所以，`true && false || false` 相当于是 `(true && false) || false`，即相当于 `false || false`；\n",
    "\n",
    "于是，最终的值是 `false`。"
   ]
  },
  {
   "cell_type": "markdown",
   "metadata": {},
   "source": [
    "### 逻辑操作符"
   ]
  },
  {
   "cell_type": "markdown",
   "metadata": {},
   "source": [
    "数值之间还可以使用逻辑操作符，`1 > 2` 返回布尔值 `False`。逻辑操作符有：`<`（小于）、`<=`（小于等于）、`>`（大于）、`>=`（大于等于）、`!=`（不等于）、`==`（等于）。\n",
    "\n",
    "逻辑操作符的优先级，高于布尔值的操作符，低于数值计算的操作符。"
   ]
  },
  {
   "cell_type": "code",
   "execution_count": 2,
   "metadata": {},
   "outputs": [
    {
     "data": {
      "text/plain": [
       "true"
      ]
     },
     "execution_count": 2,
     "metadata": {},
     "output_type": "execute_result"
    }
   ],
   "source": [
    "n = -95\n",
    "n < 0 && (n + 1) % 2 == 0"
   ]
  },
  {
   "cell_type": "markdown",
   "metadata": {},
   "source": [
    "### 字符串操作符"
   ]
  },
  {
   "cell_type": "markdown",
   "metadata": {},
   "source": [
    "针对字符串，有三种操作：\n",
    "\n",
    "> * 拼接：`+` 和 `' '`（后者是空格）\n",
    "> * 逻辑运算：`<`、`<=`、`>`、`>=`、`!=`、`==` \n",
    "> * 查询一个字符串（str_a）是否在另一个字符串（str_b）中，可使用函数 `str_a.indexOf(str_b)`"
   ]
  },
  {
   "cell_type": "code",
   "execution_count": 5,
   "metadata": {},
   "outputs": [
    {
     "name": "stdout",
     "output_type": "stream",
     "text": [
      "AwesomeJavascript\n",
      "true\n",
      "true\n"
     ]
    }
   ],
   "source": [
    "console.log('Awesome' + 'Javascript')\n",
    "console.log('Awesome' == 'Awesome')\n",
    "console.log('Awesome' != \"Python\")"
   ]
  },
  {
   "cell_type": "markdown",
   "metadata": {},
   "source": [
    "字符之间，字符串之间，除了 `==` 和 `!=` 之外，也都可以被逻辑操作符 `<`、`<=`、`>`、`>=` 运算："
   ]
  },
  {
   "cell_type": "code",
   "execution_count": 6,
   "metadata": {},
   "outputs": [
    {
     "data": {
      "text/plain": [
       "true"
      ]
     },
     "execution_count": 6,
     "metadata": {},
     "output_type": "execute_result"
    }
   ],
   "source": [
    "'a' < 'b'"
   ]
  },
  {
   "cell_type": "markdown",
   "metadata": {},
   "source": [
    "这是因为字符对应着 Unicode 码，字符在被比较的时候，被比较的是对应的 ascii 码。"
   ]
  },
  {
   "cell_type": "code",
   "execution_count": 8,
   "metadata": {},
   "outputs": [
    {
     "name": "stdout",
     "output_type": "stream",
     "text": [
      "false\n",
      "65\n",
      "97\n"
     ]
    }
   ],
   "source": [
    "console.log('A' > 'a')\n",
    "console.log('A'.charCodeAt())\n",
    "console.log('a'.charCodeAt())"
   ]
  },
  {
   "cell_type": "markdown",
   "metadata": {},
   "source": [
    "当字符串被比较的时候，将从两个字符串各自的第一个字符开始逐个比较，“一旦决出胜负马上停止”："
   ]
  },
  {
   "cell_type": "code",
   "execution_count": 10,
   "metadata": {},
   "outputs": [
    {
     "data": {
      "text/plain": [
       "true"
      ]
     },
     "execution_count": 10,
     "metadata": {},
     "output_type": "execute_result"
    }
   ],
   "source": [
    "'JavscripT' > 'Javascript 2.0'"
   ]
  },
  {
   "cell_type": "markdown",
   "metadata": {},
   "source": [
    "### 列表的操作符"
   ]
  },
  {
   "cell_type": "markdown",
   "metadata": {},
   "source": [
    "数字和字符串（由字符构成的序列）是最基本的数据类型，而我们往往需要批量处理数字和字符串，这样的时候，我们需要**数组**（Array）。不过，在 Python 语言中，它提供了一个**容器**（Container）的概念，用来容纳批量的数据。\n",
    "\n",
    "Python 的容器有很多种 —— 字符串，其实也是容器的一种，它的里面容纳着批量的字符。\n",
    "\n",
    "我们先简单接触一下另外一种容器，数组（Array）—— 在 Python 中其被称之为列表（List）。\n",
    "\n",
    "数组的标示，用方括号 `[]`；举例来说，`[1, 2, 3, 4, 5]` 和 `['ann', 'bob', 'cindy', 'dude', 'eric']`，或者 `['a', 2, 'b', 32, 22, 12]` 都是一个数组。\n",
    "\n",
    "因为数组和字符串一样，都是_有序容器_（容器还有另外一种是无序容器），所以，它们可用的操作类似，但是操作符不同。\n",
    "\n",
    "> * 拼接：array_a.concat(array_b)\n",
    "> * 逻辑运算： `<`、`<=`、`>`、`>=`、`!=`、`==` \n",
    "> * 检查值是否在数组中：array_a.includes(element)\n",
    "\n",
    "两个列表在比较时（前提是两个列表中的数据元素类型相同），遵循的还是跟字符串比较相同的规则：“一旦决出胜负马上停止”。但，实际上，由于列表中可以包含不同类型的元素，所以，通常情况下没有实际需求对他们进行“大于、小于”的比较。（比较时，用不同类型进行比较是危险的，因为可能出现意料之外的结果。）"
   ]
  },
  {
   "cell_type": "code",
   "execution_count": 13,
   "metadata": {},
   "outputs": [
    {
     "name": "stdout",
     "output_type": "stream",
     "text": [
      "false\n",
      "false\n",
      "true\n"
     ]
    }
   ],
   "source": [
    "array_a = [1, 2, 3, 4, 5]\n",
    "array_b = [1, 2, 3, 5]\n",
    "array_c = ['ann', 'bob', 'cindy', 'dude', 'eric']\n",
    "console.log(array_a > array_b)\n",
    "console.log(array_a.includes(10))\n",
    "console.log(array_c.includes('ann'))"
   ]
  },
  {
   "cell_type": "markdown",
   "metadata": {
    "toc-hr-collapsed": false
   },
   "source": [
    "## 更复杂的运算"
   ]
  },
  {
   "cell_type": "markdown",
   "metadata": {},
   "source": [
    "对于数字进行加、减、乘、除、商、余、幂的操作，对于字符串进行拼接、拷贝、属于的操作，对布尔值进行或、与、非的操作，这些都是相对简单的运算。\n",
    "\n",
    "更为复杂一点的，我们要通过调用函数来完成 —— 因为在函数内部，我们可以用比“单个表达式”更为复杂的程序针对传递进来的参数进行运算。换言之，函数就相当于各种事先写好的子程序，给它传递一个值，它会对其进行运算，而后返回一个值（最起码返回一个`undefined`）。\n",
    "\n",
    "以下是链接包括了 Javascript 语言所有的内建函数（Built-in Functions：\n",
    "\n",
    "* 英文版：https://www.tutorialspoint.com/javascript/javascript_builtin_functions.htm\n",
    "\n",
    "* 中文版：http://wiki.jikexueyuan.com/project/javascript/function.html\n",
    "\n",
    "现在倒不用着急一下子全部了解它们 —— 反正早晚都会的。\n",
    "\n",
    "这其中，针对数字，有计算绝对值的函数 `Math.abs()`，有计算指数的函数 `Math.exp()` 等等。"
   ]
  },
  {
   "cell_type": "code",
   "execution_count": 15,
   "metadata": {},
   "outputs": [
    {
     "name": "stdout",
     "output_type": "stream",
     "text": [
      "3.1415926\n",
      "59874.14171519782\n"
     ]
    }
   ],
   "source": [
    "console.log(Math.abs(-3.1415926))\n",
    "console.log(Math.exp(11))"
   ]
  },
  {
   "cell_type": "markdown",
   "metadata": {},
   "source": [
    "其中，有些方法都会有一个前缀，例如`Math.exp(11)`，Math 便是前缀。\n",
    "这是因为 Math 是一个“对象(Object)”。我们需要先指明对象，再指明方法，就像要找到某间屋子，得先找到屋子在哪栋楼一样："
   ]
  },
  {
   "cell_type": "code",
   "execution_count": 16,
   "metadata": {},
   "outputs": [
    {
     "data": {
      "text/plain": [
       "-0.9589242746631385"
      ]
     },
     "execution_count": 16,
     "metadata": {},
     "output_type": "execute_result"
    }
   ],
   "source": [
    "Math.sin(5)"
   ]
  },
  {
   "cell_type": "markdown",
   "metadata": {},
   "source": [
    "代码 `Math.sin(5)` 这里的 `.`，也可以被理解为“操作符”，它的作用是：\n",
    "\n",
    "> 从某个对象中调用函数。\n",
    "\n",
    "代码 `Math.sin(5)` 的作用是：\n",
    "\n",
    "> 把 `5` 这个值，传递给 `Math` 这个对象里的 `sin()` 函数，让 `sin()` 根据它内部的代码对这个值进行运算，而后返回一个值（即，计算结果）。\n",
    "\n",
    "可能你暂时不理解对象（Object）是什么。但是目前可以这样想 —— 它们是「保存在其他文件中的一段代码」。于是，那段代码内部定义的函数，可以被你的程序所调用。\n",
    "\n",
    "比如，任意一串字符串，其实是一个对象。所以我们可以调用关于这个对象的函数，比如`str_a.slice(x, y)`，它将会从 str_a 的第 x 个字符开始，切割到第 y 个字符："
   ]
  },
  {
   "cell_type": "code",
   "execution_count": 17,
   "metadata": {},
   "outputs": [
    {
     "data": {
      "text/plain": [
       "'apple'"
      ]
     },
     "execution_count": 17,
     "metadata": {},
     "output_type": "execute_result"
    }
   ],
   "source": [
    "\"apple pen\".slice(0,5)"
   ]
  },
  {
   "cell_type": "markdown",
   "metadata": {},
   "source": [
    "## 关于布尔值的补充"
   ]
  },
  {
   "cell_type": "markdown",
   "metadata": {},
   "source": [
    "当你看到以下这样的表达式，而后再看看它的结果，你可能会多少有点迷惑："
   ]
  },
  {
   "cell_type": "code",
   "execution_count": 18,
   "metadata": {},
   "outputs": [
    {
     "data": {
      "text/plain": [
       "true"
      ]
     },
     "execution_count": 18,
     "metadata": {},
     "output_type": "execute_result"
    }
   ],
   "source": [
    "if('Javascript'){true;}else{false;}"
   ]
  },
  {
   "cell_type": "markdown",
   "metadata": {},
   "source": [
    "这是因为 Javascript 存在隐式转换，事实上，此句相当于`if(new Boolean('Javascript'){true;}else{false;}`\n",
    "\n",
    "根据[MDN](https://developer.mozilla.org/en-US/docs/Web/JavaScript/Reference/Global_Objects/Boolean) 的表述，我们可以这样理解：\n",
    "\n",
    "> 每个变量或者常量，除了它们的值之外，同时还相当于有一个对应的布尔值。\n",
    "\n",
    "\"If the value is omitted or is 0, -0, null, false, NaN, undefined, or the empty string (\"\"), the object has an initial value of false\"\n",
    "\n",
    "意即，0, -0, null, false, NaN, undefined 与 \"\" 这几种类型对应的布尔值是 false，其它情况下皆为 true："
   ]
  },
  {
   "cell_type": "code",
   "execution_count": 20,
   "metadata": {},
   "outputs": [
    {
     "name": "stdout",
     "output_type": "stream",
     "text": [
      "[Boolean: false]\n",
      "[Boolean: false]\n",
      "[Boolean: false]\n",
      "[Boolean: false]\n",
      "[Boolean: false]\n",
      "[Boolean: false]\n",
      "[Boolean: false]\n",
      "[Boolean: true]\n",
      "[Boolean: true]\n",
      "[Boolean: true]\n"
     ]
    }
   ],
   "source": [
    "console.log(new Boolean(0))\n",
    "console.log(new Boolean(-0))\n",
    "console.log(new Boolean(null))\n",
    "console.log(new Boolean(false))\n",
    "console.log(new Boolean(NaN))\n",
    "console.log(new Boolean(undefined))\n",
    "console.log(new Boolean(\"\"))\n",
    "// above is all the false\n",
    "// above is all the true\n",
    "console.log(new Boolean(12345))\n",
    "console.log(new Boolean(\"Javascript\"))\n",
    "console.log(new Boolean(new Array()))"
   ]
  },
  {
   "cell_type": "markdown",
   "metadata": {},
   "source": [
    "## 关于值的类型的补充"
   ]
  },
  {
   "cell_type": "markdown",
   "metadata": {},
   "source": [
    "除了数字、布尔值、字符串，以及上一小节介绍的数组之外，Javascript 还有一个重要的类型，就是字典（Dictionary）。（事实上，根据 [MDN](https://developer.mozilla.org/en-US/docs/Web/JavaScript/Data_structures) ，字典和数组同属于 Object，但为了逻辑清晰，此处还是叫它们数组与字典。）\n",
    "\n",
    "数组和字典是数字、布尔值、字符串等数据类型组合起来的数据 —— 现实生活中，更多需要的是把基础类型组合起来构成的数据。比如，一个通讯部，里面是一系列字符串分别对应着若干字符串和数字。\n",
    "\n",
    "``` javascript\n",
    "obj_a = {\n",
    "    'first_name': 'Michael',\n",
    "    'last_name': 'Willington',\n",
    "    'birth_day': '12/07/1992',\n",
    "    'mobile': [\n",
    "        '714612234', \n",
    "        '716253923'\n",
    "    ],\n",
    "    'id': 3662,\n",
    "    ...\n",
    "}\n",
    "```  \n",
    "\n",
    "针对不同的类型，都有相对应的操作符，可以对其进行运算。\n",
    "\n",
    "这些类型之间有时也有不得相互运算的需求，于是，在相互运算之前同样要 _Type Casting_，比如将 Int 转换为 String，或者反之："
   ]
  },
  {
   "cell_type": "code",
   "execution_count": 26,
   "metadata": {},
   "outputs": [
    {
     "name": "stdout",
     "output_type": "stream",
     "text": [
      "1\n",
      "11\n",
      "10\n"
     ]
    }
   ],
   "source": [
    "a = 1\n",
    "b = String(a) + 1\n",
    "c = parseInt(b) - 1\n",
    "console.log(a)\n",
    "console.log(b)\n",
    "console.log(c)"
   ]
  },
  {
   "cell_type": "markdown",
   "metadata": {},
   "source": [
    "## 总结"
   ]
  },
  {
   "cell_type": "markdown",
   "metadata": {},
   "source": [
    "回到最开始：从结构上来看，一切的计算机程序，都由且只由两个最基本的成分构成：\n",
    "\n",
    "> * **运算**（Evaluation）\n",
    "> * **流程控制**（Control Flow）\n",
    "\n",
    "这一章主要介绍了基础数据类型的运算细节。而除了基础数据类型，我们需要由它们组合起来的更多复杂数据类型。但，无论数据的类型是什么，被操作符操作的总是该数据的**值**。所以，虽然绝大多数编程书籍按照惯例会讲解“数据类型”，但，为了究其本质，我们在这里关注的是“值的类型”。虽然只是关注焦点上的一点点转换，但，实践证明，这一点点的不同，对初学者更清楚地把握知识点有巨大的帮助。\n",
    "\n",
    "针对每一种_值_的类型，无论简单复杂，都有相应的操作方式：\n",
    "\n",
    "> * **操作符**\n",
    ">   * 值运算\n",
    ">   * 逻辑运算\n",
    "> *  **函数**\n",
    ">   * 内建函数\n",
    ">   * 其他模块里的函数\n",
    ">   * 其本身所属类之中所定义的函数\n",
    "\n",
    "所以，接下来要学习的，无非就是熟悉各种_数据类型_，及其相应的操作，包括能对它们的_值_进行操作的操作符和函数；无论是操作符还是函数，最终都会返回一个相应的**值**，及其相应的*布尔值* —— 这么看来，编程知识结构没多复杂。因为换句话讲，\n",
    "\n",
    "> 接下来你要学习的无非是各种_数据类型_的_运算_而已。\n",
    "\n",
    "另外，虽然现在尚未来得及对**函数**进行深入讲解，但最终你会发现它跟操作符一样，在程序里无所不在。"
   ]
  }
 ],
 "metadata": {
  "kernelspec": {
   "display_name": "Javascript (Node.js)",
   "language": "javascript",
   "name": "javascript"
  },
  "language_info": {
   "file_extension": ".js",
   "mimetype": "application/javascript",
   "name": "javascript",
   "version": "8.10.0"
  }
 },
 "nbformat": 4,
 "nbformat_minor": 2
}
